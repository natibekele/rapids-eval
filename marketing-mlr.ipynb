{
 "cells": [
  {
   "cell_type": "code",
   "execution_count": 1,
   "id": "bae945bc-50ac-4a22-9e88-cb0a88a3d337",
   "metadata": {},
   "outputs": [],
   "source": [
    "from statsbombpy import sb\n",
    "import pandas as pd\n",
    "import numpy as np\n",
    "import seaborn.objects as so\n",
    "import seaborn as sns\n",
    "import matplotlib.pyplot as plt\n",
    "from scipy.stats import pearsonr\n",
    "from math import log"
   ]
  }
 ],
 "metadata": {
  "kernelspec": {
   "display_name": "player_team_eval",
   "language": "python",
   "name": "player_team_eval"
  },
  "language_info": {
   "codemirror_mode": {
    "name": "ipython",
    "version": 3
   },
   "file_extension": ".py",
   "mimetype": "text/x-python",
   "name": "python",
   "nbconvert_exporter": "python",
   "pygments_lexer": "ipython3",
   "version": "3.11.2"
  }
 },
 "nbformat": 4,
 "nbformat_minor": 5
}
